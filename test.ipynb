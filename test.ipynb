{
  "nbformat": 4,
  "nbformat_minor": 0,
  "metadata": {
    "colab": {
      "provenance": [],
      "gpuType": "T4",
      "include_colab_link": true
    },
    "kernelspec": {
      "name": "python3",
      "display_name": "Python 3"
    },
    "language_info": {
      "name": "python"
    },
    "accelerator": "GPU"
  },
  "cells": [
    {
      "cell_type": "markdown",
      "metadata": {
        "id": "view-in-github",
        "colab_type": "text"
      },
      "source": [
        "<a href=\"https://colab.research.google.com/github/Biniyamgd/IDP/blob/main/test.ipynb\" target=\"_parent\"><img src=\"https://colab.research.google.com/assets/colab-badge.svg\" alt=\"Open In Colab\"/></a>"
      ]
    },
    {
      "cell_type": "code",
      "execution_count": null,
      "metadata": {
        "colab": {
          "base_uri": "https://localhost:8080/"
        },
        "id": "FvozMDLVaGsl",
        "outputId": "8b850c7e-e1ef-45f5-bcd1-c48e9d18f9db"
      },
      "outputs": [
        {
          "output_type": "stream",
          "name": "stdout",
          "text": [
            "Requirement already satisfied: dlib in /usr/local/lib/python3.10/dist-packages (19.24.4)\n",
            "Collecting face_recognition\n",
            "  Downloading face_recognition-1.3.0-py2.py3-none-any.whl (15 kB)\n",
            "Collecting face-recognition-models>=0.3.0 (from face_recognition)\n",
            "  Downloading face_recognition_models-0.3.0.tar.gz (100.1 MB)\n",
            "\u001b[2K     \u001b[90m━━━━━━━━━━━━━━━━━━━━━━━━━━━━━━━━━━━━━━━━\u001b[0m \u001b[32m100.1/100.1 MB\u001b[0m \u001b[31m7.6 MB/s\u001b[0m eta \u001b[36m0:00:00\u001b[0m\n",
            "\u001b[?25h  Preparing metadata (setup.py) ... \u001b[?25l\u001b[?25hdone\n",
            "Requirement already satisfied: Click>=6.0 in /usr/local/lib/python3.10/dist-packages (from face_recognition) (8.1.7)\n",
            "Requirement already satisfied: dlib>=19.7 in /usr/local/lib/python3.10/dist-packages (from face_recognition) (19.24.4)\n",
            "Requirement already satisfied: numpy in /usr/local/lib/python3.10/dist-packages (from face_recognition) (1.25.2)\n",
            "Requirement already satisfied: Pillow in /usr/local/lib/python3.10/dist-packages (from face_recognition) (9.4.0)\n",
            "Building wheels for collected packages: face-recognition-models\n",
            "  Building wheel for face-recognition-models (setup.py) ... \u001b[?25l\u001b[?25hdone\n",
            "  Created wheel for face-recognition-models: filename=face_recognition_models-0.3.0-py2.py3-none-any.whl size=100566170 sha256=83e9b2b09f87439e4b7f5b0621925ee56a9d4031c578094c5b78f8fb5c49e09d\n",
            "  Stored in directory: /root/.cache/pip/wheels/7a/eb/cf/e9eced74122b679557f597bb7c8e4c739cfcac526db1fd523d\n",
            "Successfully built face-recognition-models\n",
            "Installing collected packages: face-recognition-models, face_recognition\n",
            "Successfully installed face-recognition-models-0.3.0 face_recognition-1.3.0\n"
          ]
        }
      ],
      "source": [
        "#progress\n",
        "\n",
        "!pip install dlib\n",
        "!pip install face_recognition"
      ]
    },
    {
      "cell_type": "code",
      "source": [
        "from google.colab import drive\n",
        "drive.mount('/content/drive')"
      ],
      "metadata": {
        "colab": {
          "base_uri": "https://localhost:8080/"
        },
        "id": "AmFwR0biRBpt",
        "outputId": "340805ae-4f93-4dbe-e0a1-88790fa416d8"
      },
      "execution_count": null,
      "outputs": [
        {
          "output_type": "stream",
          "name": "stdout",
          "text": [
            "Mounted at /content/drive\n"
          ]
        }
      ]
    },
    {
      "cell_type": "code",
      "source": [
        "from IPython.display import display, Javascript\n",
        "from google.colab.output import eval_js\n",
        "from base64 import b64decode\n",
        "\n",
        "!mkdir unknown\n",
        "\n",
        "def take_photo(filename='./unknown/photo.jpg', quality=0.8):\n",
        "  js = Javascript('''\n",
        "    async function takePhoto(quality) {\n",
        "      const div = document.createElement('div');\n",
        "      const capture = document.createElement('button');\n",
        "      capture.textContent = 'Capture';\n",
        "      div.appendChild(capture);\n",
        "\n",
        "      const video = document.createElement('video');\n",
        "      video.style.display = 'block';\n",
        "      const stream = await navigator.mediaDevices.getUserMedia({video: true});\n",
        "\n",
        "      document.body.appendChild(div);\n",
        "      div.appendChild(video);\n",
        "      video.srcObject = stream;\n",
        "      await video.play();\n",
        "\n",
        "      // Resize the output to fit the video element.\n",
        "      google.colab.output.setIframeHeight(document.documentElement.scrollHeight, true);\n",
        "\n",
        "      // Wait for Capture to be clicked.\n",
        "      await new Promise((resolve) => capture.onclick = resolve);\n",
        "\n",
        "      const canvas = document.createElement('canvas');\n",
        "      canvas.width = video.videoWidth;\n",
        "      canvas.height = video.videoHeight;\n",
        "      canvas.getContext('2d').drawImage(video, 0, 0);\n",
        "      stream.getVideoTracks()[0].stop();\n",
        "      div.remove();\n",
        "      return canvas.toDataURL('image/jpeg', quality);\n",
        "    }\n",
        "    ''')\n",
        "  display(js)\n",
        "  data = eval_js('takePhoto({})'.format(quality))\n",
        "  binary = b64decode(data.split(',')[1])\n",
        "  with open(filename, 'wb') as f:\n",
        "    f.write(binary)\n",
        "  return filename"
      ],
      "metadata": {
        "id": "OaEtSKythY99"
      },
      "execution_count": null,
      "outputs": []
    },
    {
      "cell_type": "code",
      "source": [
        "from IPython.display import Image\n",
        "from google.colab.patches import cv2_imshow\n",
        "\n",
        "from threading import local\n",
        "import cv2\n",
        "import os\n",
        "import pickle\n",
        "import face_recognition\n",
        "import numpy as np\n",
        "import firebase_admin\n",
        "from firebase_admin import storage\n",
        "from firebase_admin import credentials\n",
        "from firebase_admin import db\n",
        "\n",
        "# cred = credentials.Certificate(\"/content/drive/MyDrive/serviceAccountKey.json\")\n",
        "# firebase_admin.initialize_app(cred,{\n",
        "#     \"databaseURL\":\"https://facerecondb-default-rtdb.firebaseio.com/\",\n",
        "#     \"storageBucket\":\"facerecondb.appspot.com\"\n",
        "# })\n",
        "\n",
        "\n",
        "filepath='./drive/MyDrive/students'\n",
        "folder=os.listdir(filepath)\n",
        "modelist=[]\n",
        "studentId=[]\n",
        "\n",
        "\n",
        "for Path in folder:\n",
        "  # Check if the item is a file and a supported image format before adding to modelist\n",
        "  if os.path.isfile(os.path.join(filepath, Path)) and Path.lower().endswith(('.png', '.jpg', '.jpeg')):\n",
        "    modelist.append(cv2.imread(os.path.join(filepath,Path)))\n",
        "    studentId.append(os.path.splitext(Path)[0])\n",
        "    imgfile=os.path.join(filepath,Path)\n",
        "    # Get the relative path to avoid including parent directories\n",
        "    relative_path = os.path.relpath(imgfile, filepath)\n",
        "    bucket=storage.bucket()\n",
        "    blob = bucket.blob(relative_path)\n",
        "    blob.upload_from_filename(imgfile)\n",
        "    print(f'File {imgfile} uploaded to {relative_path}.')\n",
        "print(studentId)\n",
        "\n",
        "encodeList=[]\n",
        "def encodingImg(imgList): # Changed function parameter to imgList to reflect that it's processing a list\n",
        "\n",
        "    for img in imgList: # Iterate over each image in the list\n",
        "        img=cv2.cvtColor(img,cv2.COLOR_BGR2RGB)\n",
        "        encode=face_recognition.face_encodings(img) # Use img instead of i\n",
        "        encodeList.append(encode)\n",
        "    return encodeList\n",
        "\n",
        "print('encoding Started...')\n",
        "encodes=encodingImg(modelist) # Pass the list of images\n",
        "unknownId=[encodes[0],studentId]\n",
        "print('encoding Complete...')\n",
        "# print(unknownId)\n",
        "\n",
        "file =open('./sample_data/encoding.p','wb')\n",
        "pickle.dump(unknownId,file)\n",
        "file.close()\n",
        "print('File Saved')\n",
        "\n",
        "file = open('./sample_data/encoding.p','rb')\n",
        "encodeListknownId=pickle.load(file)\n",
        "file.close()\n",
        "un , std =encodeListknownId\n",
        "print(std)\n",
        "\n",
        "\n",
        "\n",
        "# print(modelist)\n",
        "filepath2=cv2.imread(os.path.join('/content/unknown','photo.jpg'))\n",
        "\n",
        "encodeList2=[]\n",
        "def encodingImg2(img): # Changed function parameter to imgList to reflect that it's processing a list\n",
        "        img=cv2.cvtColor(img,cv2.COLOR_BGR2RGB)\n",
        "        encode=face_recognition.face_encodings(img) # Use img instead of i\n",
        "        return encode\n",
        "\n",
        "encodehello = encodingImg2(filepath2)\n",
        "i=0\n",
        "arr1=[]\n",
        "arr2=[]\n",
        "while i<len(encodes):\n",
        " for items in encodes[i]:\n",
        "   match1=face_recognition.compare_faces(items,encodehello)\n",
        "   facedis=face_recognition.face_distance(items,encodehello)\n",
        "   arr1.append(match1[0])\n",
        "   arr2.append(facedis[0])\n",
        "   i=i+1\n",
        "print(arr1)\n",
        "print(arr2)\n",
        "index=np.argmin(arr2)\n",
        "ID=studentId[index]\n",
        "IDref=db.reference(f'students/{ID}')\n",
        "print(IDref.get())\n",
        "Downblob=bucket.get_blob(f'./{ID}.jpg')\n",
        "array=np.frombuffer(blob.download_as_string(),np.uint8)\n",
        "image2=cv2.imdecode(array,cv2.IMREAD_COLOR)\n",
        "try:\n",
        "  filename = take_photo()\n",
        "  print('Saved to {}'.format(filename))\n",
        "\n",
        "  # Show the image which was just taken.\n",
        "  # display(Image(filename))  #check\n",
        "except Exception as err:\n",
        "  # Errors will be thrown if the user does not have a webcam or if they do not\n",
        "  # grant the page permission to access it.\n",
        "  print(str(err))\n",
        "\n",
        "\n",
        "# Load the images\n",
        "img2 = cv2.imread('./unknown/photo.jpg')\n",
        "\n",
        "# Resize the images to the same size (if needed)\n",
        "img1 = cv2.resize(image2, (300, 400))\n",
        "img2 = cv2.resize(img2, (300, 400))\n",
        "\n",
        "# Concatenate the images horizontally\n",
        "img_combined = cv2.hconcat([img1, img2])\n",
        "\n",
        "# Display the combined image\n",
        "cv2_imshow(img_combined)\n",
        "\n",
        "# Wait for the user to close the window\n",
        "# cv2.waitKey(0)\n",
        "# cv2.destroyAllWindows()"
      ],
      "metadata": {
        "colab": {
          "base_uri": "https://localhost:8080/",
          "height": 515
        },
        "id": "VrlPnj3vhY-D",
        "outputId": "1a634436-4591-44ca-f524-a7565a17412a",
        "collapsed": true
      },
      "execution_count": null,
      "outputs": [
        {
          "output_type": "display_data",
          "data": {
            "text/plain": [
              "<IPython.core.display.Javascript object>"
            ],
            "application/javascript": [
              "\n",
              "    async function takePhoto(quality) {\n",
              "      const div = document.createElement('div');\n",
              "      const capture = document.createElement('button');\n",
              "      capture.textContent = 'Capture';\n",
              "      div.appendChild(capture);\n",
              "\n",
              "      const video = document.createElement('video');\n",
              "      video.style.display = 'block';\n",
              "      const stream = await navigator.mediaDevices.getUserMedia({video: true});\n",
              "\n",
              "      document.body.appendChild(div);\n",
              "      div.appendChild(video);\n",
              "      video.srcObject = stream;\n",
              "      await video.play();\n",
              "\n",
              "      // Resize the output to fit the video element.\n",
              "      google.colab.output.setIframeHeight(document.documentElement.scrollHeight, true);\n",
              "\n",
              "      // Wait for Capture to be clicked.\n",
              "      await new Promise((resolve) => capture.onclick = resolve);\n",
              "\n",
              "      const canvas = document.createElement('canvas');\n",
              "      canvas.width = video.videoWidth;\n",
              "      canvas.height = video.videoHeight;\n",
              "      canvas.getContext('2d').drawImage(video, 0, 0);\n",
              "      stream.getVideoTracks()[0].stop();\n",
              "      div.remove();\n",
              "      return canvas.toDataURL('image/jpeg', quality);\n",
              "    }\n",
              "    "
            ]
          },
          "metadata": {}
        },
        {
          "output_type": "stream",
          "name": "stdout",
          "text": [
            "Saved to ./unknown/photo.jpg\n"
          ]
        },
        {
          "output_type": "display_data",
          "data": {
            "image/jpeg": "[encoded data removed]",
            "text/plain": [
              "<IPython.core.display.Image object>"
            ]
          },
          "metadata": {}
        }
      ]
    },
    {
      "cell_type": "code",
      "source": [
        "import cv2\n",
        "from PIL import Image\n",
        "import matplotlib.pyplot as plt\n",
        "img= cv2.imread('./photo.jpg')\n",
        "plt.imshow(img)\n",
        "plt.show"
      ],
      "metadata": {
        "colab": {
          "base_uri": "https://localhost:8080/",
          "height": 765
        },
        "id": "-MtiLbBjhkiV",
        "outputId": "8d79e32f-9279-4f62-f410-3c2aec074f86",
        "collapsed": true
      },
      "execution_count": null,
      "outputs": [
        {
          "output_type": "error",
          "ename": "TypeError",
          "evalue": "Image data of dtype object cannot be converted to float",
          "traceback": [
            "\u001b[0;31m---------------------------------------------------------------------------\u001b[0m",
            "\u001b[0;31mTypeError\u001b[0m                                 Traceback (most recent call last)",
            "\u001b[0;32m<ipython-input-11-80650e5089a4>\u001b[0m in \u001b[0;36m<cell line: 5>\u001b[0;34m()\u001b[0m\n\u001b[1;32m      3\u001b[0m \u001b[0;32mimport\u001b[0m \u001b[0mmatplotlib\u001b[0m\u001b[0;34m.\u001b[0m\u001b[0mpyplot\u001b[0m \u001b[0;32mas\u001b[0m \u001b[0mplt\u001b[0m\u001b[0;34m\u001b[0m\u001b[0;34m\u001b[0m\u001b[0m\n\u001b[1;32m      4\u001b[0m \u001b[0mimg\u001b[0m\u001b[0;34m=\u001b[0m \u001b[0mcv2\u001b[0m\u001b[0;34m.\u001b[0m\u001b[0mimread\u001b[0m\u001b[0;34m(\u001b[0m\u001b[0;34m'./photo.jpg'\u001b[0m\u001b[0;34m)\u001b[0m\u001b[0;34m\u001b[0m\u001b[0;34m\u001b[0m\u001b[0m\n\u001b[0;32m----> 5\u001b[0;31m \u001b[0mplt\u001b[0m\u001b[0;34m.\u001b[0m\u001b[0mimshow\u001b[0m\u001b[0;34m(\u001b[0m\u001b[0mimg\u001b[0m\u001b[0;34m)\u001b[0m\u001b[0;34m\u001b[0m\u001b[0;34m\u001b[0m\u001b[0m\n\u001b[0m\u001b[1;32m      6\u001b[0m \u001b[0mplt\u001b[0m\u001b[0;34m.\u001b[0m\u001b[0mshow\u001b[0m\u001b[0;34m\u001b[0m\u001b[0;34m\u001b[0m\u001b[0m\n",
            "\u001b[0;32m/usr/local/lib/python3.10/dist-packages/matplotlib/pyplot.py\u001b[0m in \u001b[0;36mimshow\u001b[0;34m(X, cmap, norm, aspect, interpolation, alpha, vmin, vmax, origin, extent, interpolation_stage, filternorm, filterrad, resample, url, data, **kwargs)\u001b[0m\n\u001b[1;32m   2693\u001b[0m         \u001b[0minterpolation_stage\u001b[0m\u001b[0;34m=\u001b[0m\u001b[0;32mNone\u001b[0m\u001b[0;34m,\u001b[0m \u001b[0mfilternorm\u001b[0m\u001b[0;34m=\u001b[0m\u001b[0;32mTrue\u001b[0m\u001b[0;34m,\u001b[0m \u001b[0mfilterrad\u001b[0m\u001b[0;34m=\u001b[0m\u001b[0;36m4.0\u001b[0m\u001b[0;34m,\u001b[0m\u001b[0;34m\u001b[0m\u001b[0;34m\u001b[0m\u001b[0m\n\u001b[1;32m   2694\u001b[0m         resample=None, url=None, data=None, **kwargs):\n\u001b[0;32m-> 2695\u001b[0;31m     __ret = gca().imshow(\n\u001b[0m\u001b[1;32m   2696\u001b[0m         \u001b[0mX\u001b[0m\u001b[0;34m,\u001b[0m \u001b[0mcmap\u001b[0m\u001b[0;34m=\u001b[0m\u001b[0mcmap\u001b[0m\u001b[0;34m,\u001b[0m \u001b[0mnorm\u001b[0m\u001b[0;34m=\u001b[0m\u001b[0mnorm\u001b[0m\u001b[0;34m,\u001b[0m \u001b[0maspect\u001b[0m\u001b[0;34m=\u001b[0m\u001b[0maspect\u001b[0m\u001b[0;34m,\u001b[0m\u001b[0;34m\u001b[0m\u001b[0;34m\u001b[0m\u001b[0m\n\u001b[1;32m   2697\u001b[0m         \u001b[0minterpolation\u001b[0m\u001b[0;34m=\u001b[0m\u001b[0minterpolation\u001b[0m\u001b[0;34m,\u001b[0m \u001b[0malpha\u001b[0m\u001b[0;34m=\u001b[0m\u001b[0malpha\u001b[0m\u001b[0;34m,\u001b[0m \u001b[0mvmin\u001b[0m\u001b[0;34m=\u001b[0m\u001b[0mvmin\u001b[0m\u001b[0;34m,\u001b[0m\u001b[0;34m\u001b[0m\u001b[0;34m\u001b[0m\u001b[0m\n",
            "\u001b[0;32m/usr/local/lib/python3.10/dist-packages/matplotlib/__init__.py\u001b[0m in \u001b[0;36minner\u001b[0;34m(ax, data, *args, **kwargs)\u001b[0m\n\u001b[1;32m   1440\u001b[0m     \u001b[0;32mdef\u001b[0m \u001b[0minner\u001b[0m\u001b[0;34m(\u001b[0m\u001b[0max\u001b[0m\u001b[0;34m,\u001b[0m \u001b[0;34m*\u001b[0m\u001b[0margs\u001b[0m\u001b[0;34m,\u001b[0m \u001b[0mdata\u001b[0m\u001b[0;34m=\u001b[0m\u001b[0;32mNone\u001b[0m\u001b[0;34m,\u001b[0m \u001b[0;34m**\u001b[0m\u001b[0mkwargs\u001b[0m\u001b[0;34m)\u001b[0m\u001b[0;34m:\u001b[0m\u001b[0;34m\u001b[0m\u001b[0;34m\u001b[0m\u001b[0m\n\u001b[1;32m   1441\u001b[0m         \u001b[0;32mif\u001b[0m \u001b[0mdata\u001b[0m \u001b[0;32mis\u001b[0m \u001b[0;32mNone\u001b[0m\u001b[0;34m:\u001b[0m\u001b[0;34m\u001b[0m\u001b[0;34m\u001b[0m\u001b[0m\n\u001b[0;32m-> 1442\u001b[0;31m             \u001b[0;32mreturn\u001b[0m \u001b[0mfunc\u001b[0m\u001b[0;34m(\u001b[0m\u001b[0max\u001b[0m\u001b[0;34m,\u001b[0m \u001b[0;34m*\u001b[0m\u001b[0mmap\u001b[0m\u001b[0;34m(\u001b[0m\u001b[0msanitize_sequence\u001b[0m\u001b[0;34m,\u001b[0m \u001b[0margs\u001b[0m\u001b[0;34m)\u001b[0m\u001b[0;34m,\u001b[0m \u001b[0;34m**\u001b[0m\u001b[0mkwargs\u001b[0m\u001b[0;34m)\u001b[0m\u001b[0;34m\u001b[0m\u001b[0;34m\u001b[0m\u001b[0m\n\u001b[0m\u001b[1;32m   1443\u001b[0m \u001b[0;34m\u001b[0m\u001b[0m\n\u001b[1;32m   1444\u001b[0m         \u001b[0mbound\u001b[0m \u001b[0;34m=\u001b[0m \u001b[0mnew_sig\u001b[0m\u001b[0;34m.\u001b[0m\u001b[0mbind\u001b[0m\u001b[0;34m(\u001b[0m\u001b[0max\u001b[0m\u001b[0;34m,\u001b[0m \u001b[0;34m*\u001b[0m\u001b[0margs\u001b[0m\u001b[0;34m,\u001b[0m \u001b[0;34m**\u001b[0m\u001b[0mkwargs\u001b[0m\u001b[0;34m)\u001b[0m\u001b[0;34m\u001b[0m\u001b[0;34m\u001b[0m\u001b[0m\n",
            "\u001b[0;32m/usr/local/lib/python3.10/dist-packages/matplotlib/axes/_axes.py\u001b[0m in \u001b[0;36mimshow\u001b[0;34m(self, X, cmap, norm, aspect, interpolation, alpha, vmin, vmax, origin, extent, interpolation_stage, filternorm, filterrad, resample, url, **kwargs)\u001b[0m\n\u001b[1;32m   5663\u001b[0m                               **kwargs)\n\u001b[1;32m   5664\u001b[0m \u001b[0;34m\u001b[0m\u001b[0m\n\u001b[0;32m-> 5665\u001b[0;31m         \u001b[0mim\u001b[0m\u001b[0;34m.\u001b[0m\u001b[0mset_data\u001b[0m\u001b[0;34m(\u001b[0m\u001b[0mX\u001b[0m\u001b[0;34m)\u001b[0m\u001b[0;34m\u001b[0m\u001b[0;34m\u001b[0m\u001b[0m\n\u001b[0m\u001b[1;32m   5666\u001b[0m         \u001b[0mim\u001b[0m\u001b[0;34m.\u001b[0m\u001b[0mset_alpha\u001b[0m\u001b[0;34m(\u001b[0m\u001b[0malpha\u001b[0m\u001b[0;34m)\u001b[0m\u001b[0;34m\u001b[0m\u001b[0;34m\u001b[0m\u001b[0m\n\u001b[1;32m   5667\u001b[0m         \u001b[0;32mif\u001b[0m \u001b[0mim\u001b[0m\u001b[0;34m.\u001b[0m\u001b[0mget_clip_path\u001b[0m\u001b[0;34m(\u001b[0m\u001b[0;34m)\u001b[0m \u001b[0;32mis\u001b[0m \u001b[0;32mNone\u001b[0m\u001b[0;34m:\u001b[0m\u001b[0;34m\u001b[0m\u001b[0;34m\u001b[0m\u001b[0m\n",
            "\u001b[0;32m/usr/local/lib/python3.10/dist-packages/matplotlib/image.py\u001b[0m in \u001b[0;36mset_data\u001b[0;34m(self, A)\u001b[0m\n\u001b[1;32m    699\u001b[0m         if (self._A.dtype != np.uint8 and\n\u001b[1;32m    700\u001b[0m                 not np.can_cast(self._A.dtype, float, \"same_kind\")):\n\u001b[0;32m--> 701\u001b[0;31m             raise TypeError(\"Image data of dtype {} cannot be converted to \"\n\u001b[0m\u001b[1;32m    702\u001b[0m                             \"float\".format(self._A.dtype))\n\u001b[1;32m    703\u001b[0m \u001b[0;34m\u001b[0m\u001b[0m\n",
            "\u001b[0;31mTypeError\u001b[0m: Image data of dtype object cannot be converted to float"
          ]
        },
        {
          "output_type": "display_data",
          "data": {
            "text/plain": [
              "<Figure size 640x480 with 1 Axes>"
            ],
            "image/png": "[encoded data removed]"
          },
          "metadata": {}
        }
      ]
    },
    {
      "cell_type": "code",
      "source": [
        "import cv2\n",
        "import os\n",
        "import face_recognition\n",
        "\n",
        "filepath='./'\n",
        "folder=os.listdir(filepath)\n",
        "modelist=[]\n",
        "stuid=[]\n",
        "encodeList=[]\n",
        "for Path in folder:\n",
        "  # if os.path.isfile(os.path.join(filepath, Path)) and Path.lower().endswith(('.png', '.jpg', '.jpeg')):\n",
        "    modelist.append(cv2.imread(os.path.join(filepath,Path)))\n",
        "\n",
        "print(modelist[3])\n",
        "\n",
        "\n",
        "def encodingImg(Img):\n",
        "  # for img in Img:\n",
        "    img=cv2.cvtColor(Img,cv2.COLOR_BGR2RGB)\n",
        "    encode=face_recognition.face_encodings(img)\n",
        "    encodeList.append(encode)\n",
        "    return encodeList\n",
        "\n",
        "print('encoding Started...')\n",
        "encodes=encodingImg(modelist[2])\n",
        "print('encoding Complete...')\n",
        "print(encodes)"
      ],
      "metadata": {
        "id": "tVVL7rGIhlvY",
        "colab": {
          "base_uri": "https://localhost:8080/",
          "height": 394
        },
        "outputId": "ac24c298-fe54-4523-a1c6-2a46492ffe9a"
      },
      "execution_count": null,
      "outputs": [
        {
          "output_type": "stream",
          "name": "stdout",
          "text": [
            "None\n",
            "encoding Started...\n"
          ]
        },
        {
          "output_type": "error",
          "ename": "error",
          "evalue": "OpenCV(4.8.0) /io/opencv/modules/imgproc/src/color.cpp:182: error: (-215:Assertion failed) !_src.empty() in function 'cvtColor'\n",
          "traceback": [
            "\u001b[0;31m---------------------------------------------------------------------------\u001b[0m",
            "\u001b[0;31merror\u001b[0m                                     Traceback (most recent call last)",
            "\u001b[0;32m<ipython-input-11-16c0e21484ad>\u001b[0m in \u001b[0;36m<cell line: 25>\u001b[0;34m()\u001b[0m\n\u001b[1;32m     23\u001b[0m \u001b[0;34m\u001b[0m\u001b[0m\n\u001b[1;32m     24\u001b[0m \u001b[0mprint\u001b[0m\u001b[0;34m(\u001b[0m\u001b[0;34m'encoding Started...'\u001b[0m\u001b[0;34m)\u001b[0m\u001b[0;34m\u001b[0m\u001b[0;34m\u001b[0m\u001b[0m\n\u001b[0;32m---> 25\u001b[0;31m \u001b[0mencodes\u001b[0m\u001b[0;34m=\u001b[0m\u001b[0mencodingImg\u001b[0m\u001b[0;34m(\u001b[0m\u001b[0mmodelist\u001b[0m\u001b[0;34m[\u001b[0m\u001b[0;36m2\u001b[0m\u001b[0;34m]\u001b[0m\u001b[0;34m)\u001b[0m\u001b[0;34m\u001b[0m\u001b[0;34m\u001b[0m\u001b[0m\n\u001b[0m\u001b[1;32m     26\u001b[0m \u001b[0mprint\u001b[0m\u001b[0;34m(\u001b[0m\u001b[0;34m'encoding Complete...'\u001b[0m\u001b[0;34m)\u001b[0m\u001b[0;34m\u001b[0m\u001b[0;34m\u001b[0m\u001b[0m\n\u001b[1;32m     27\u001b[0m \u001b[0mprint\u001b[0m\u001b[0;34m(\u001b[0m\u001b[0mencodes\u001b[0m\u001b[0;34m)\u001b[0m\u001b[0;34m\u001b[0m\u001b[0;34m\u001b[0m\u001b[0m\n",
            "\u001b[0;32m<ipython-input-11-16c0e21484ad>\u001b[0m in \u001b[0;36mencodingImg\u001b[0;34m(Img)\u001b[0m\n\u001b[1;32m     17\u001b[0m \u001b[0;32mdef\u001b[0m \u001b[0mencodingImg\u001b[0m\u001b[0;34m(\u001b[0m\u001b[0mImg\u001b[0m\u001b[0;34m)\u001b[0m\u001b[0;34m:\u001b[0m\u001b[0;34m\u001b[0m\u001b[0;34m\u001b[0m\u001b[0m\n\u001b[1;32m     18\u001b[0m   \u001b[0;31m# for img in Img:\u001b[0m\u001b[0;34m\u001b[0m\u001b[0;34m\u001b[0m\u001b[0m\n\u001b[0;32m---> 19\u001b[0;31m     \u001b[0mimg\u001b[0m\u001b[0;34m=\u001b[0m\u001b[0mcv2\u001b[0m\u001b[0;34m.\u001b[0m\u001b[0mcvtColor\u001b[0m\u001b[0;34m(\u001b[0m\u001b[0mImg\u001b[0m\u001b[0;34m,\u001b[0m\u001b[0mcv2\u001b[0m\u001b[0;34m.\u001b[0m\u001b[0mCOLOR_BGR2RGB\u001b[0m\u001b[0;34m)\u001b[0m\u001b[0;34m\u001b[0m\u001b[0;34m\u001b[0m\u001b[0m\n\u001b[0m\u001b[1;32m     20\u001b[0m     \u001b[0mencode\u001b[0m\u001b[0;34m=\u001b[0m\u001b[0mface_recognition\u001b[0m\u001b[0;34m.\u001b[0m\u001b[0mface_encodings\u001b[0m\u001b[0;34m(\u001b[0m\u001b[0mimg\u001b[0m\u001b[0;34m)\u001b[0m\u001b[0;34m\u001b[0m\u001b[0;34m\u001b[0m\u001b[0m\n\u001b[1;32m     21\u001b[0m     \u001b[0mencodeList\u001b[0m\u001b[0;34m.\u001b[0m\u001b[0mappend\u001b[0m\u001b[0;34m(\u001b[0m\u001b[0mencode\u001b[0m\u001b[0;34m)\u001b[0m\u001b[0;34m\u001b[0m\u001b[0;34m\u001b[0m\u001b[0m\n",
            "\u001b[0;31merror\u001b[0m: OpenCV(4.8.0) /io/opencv/modules/imgproc/src/color.cpp:182: error: (-215:Assertion failed) !_src.empty() in function 'cvtColor'\n"
          ]
        }
      ]
    },
    {
      "cell_type": "code",
      "source": [
        "import os\n",
        "# os.mkdir('./encoding')\n",
        "# os.chdir('./encoding')\n",
        "!touch encodeGenerator.py"
      ],
      "metadata": {
        "id": "1cmdhfzn2xe_"
      },
      "execution_count": null,
      "outputs": []
    },
    {
      "cell_type": "code",
      "source": [
        "# import os\n",
        "# os.chdir('./encoding')\n",
        "open('encodeGenerator.py')\n"
      ],
      "metadata": {
        "id": "iAo-eHNS3Rxo",
        "outputId": "1fc6e72c-f559-4d57-cda6-4af7d3f1e88b",
        "colab": {
          "base_uri": "https://localhost:8080/"
        }
      },
      "execution_count": null,
      "outputs": [
        {
          "output_type": "execute_result",
          "data": {
            "text/plain": [
              "<_io.TextIOWrapper name='encodeGenerator.py' mode='r' encoding='UTF-8'>"
            ]
          },
          "metadata": {},
          "execution_count": 14
        }
      ]
    },
    {
      "cell_type": "code",
      "source": [
        "from threading import local\n",
        "import cv2\n",
        "import os\n",
        "import pickle\n",
        "import face_recognition\n",
        "import numpy as np\n",
        "import firebase_admin\n",
        "from firebase_admin import storage\n",
        "from firebase_admin import credentials\n",
        "from firebase_admin import db\n",
        "\n",
        "# cred = credentials.Certificate(\"/content/drive/MyDrive/serviceAccountKey.json\")\n",
        "# firebase_admin.initialize_app(cred,{\n",
        "#     \"databaseURL\":\"https://facerecondb-default-rtdb.firebaseio.com/\",\n",
        "#     \"storageBucket\":\"facerecondb.appspot.com\"\n",
        "# })\n",
        "\n",
        "\n",
        "filepath='./drive/MyDrive/students'\n",
        "folder=os.listdir(filepath)\n",
        "modelist=[]\n",
        "studentId=[]\n",
        "\n",
        "\n",
        "for Path in folder:\n",
        "  # Check if the item is a file and a supported image format before adding to modelist\n",
        "  if os.path.isfile(os.path.join(filepath, Path)) and Path.lower().endswith(('.png', '.jpg', '.jpeg')):\n",
        "    modelist.append(cv2.imread(os.path.join(filepath,Path)))\n",
        "    studentId.append(os.path.splitext(Path)[0])\n",
        "    imgfile=os.path.join(filepath,Path)\n",
        "    # Get the relative path to avoid including parent directories\n",
        "    relative_path = os.path.relpath(imgfile, filepath)\n",
        "    bucket=storage.bucket()\n",
        "    blob = bucket.blob(relative_path)\n",
        "    blob.upload_from_filename(imgfile)\n",
        "    print(f'File {imgfile} uploaded to {relative_path}.')\n",
        "print(studentId)\n",
        "\n",
        "encodeList=[]\n",
        "def encodingImg(imgList): # Changed function parameter to imgList to reflect that it's processing a list\n",
        "\n",
        "    for img in imgList: # Iterate over each image in the list\n",
        "        img=cv2.cvtColor(img,cv2.COLOR_BGR2RGB)\n",
        "        encode=face_recognition.face_encodings(img) # Use img instead of i\n",
        "        encodeList.append(encode)\n",
        "    return encodeList\n",
        "\n",
        "print('encoding Started...')\n",
        "encodes=encodingImg(modelist) # Pass the list of images\n",
        "unknownId=[encodes[0],studentId]\n",
        "print('encoding Complete...')\n",
        "# print(unknownId)\n",
        "\n",
        "file =open('./sample_data/encoding.p','wb')\n",
        "pickle.dump(unknownId,file)\n",
        "file.close()\n",
        "print('File Saved')\n",
        "\n",
        "file = open('./sample_data/encoding.p','rb')\n",
        "encodeListknownId=pickle.load(file)\n",
        "file.close()\n",
        "un , std =encodeListknownId\n",
        "print(std)\n",
        "\n",
        "\n",
        "\n",
        "# print(modelist)\n",
        "filepath2=cv2.imread(os.path.join('/content/unknown','photo.jpg'))\n",
        "\n",
        "encodeList2=[]\n",
        "def encodingImg2(img): # Changed function parameter to imgList to reflect that it's processing a list\n",
        "        img=cv2.cvtColor(img,cv2.COLOR_BGR2RGB)\n",
        "        encode=face_recognition.face_encodings(img) # Use img instead of i\n",
        "        return encode\n",
        "\n",
        "encodehello = encodingImg2(filepath2)\n",
        "i=0\n",
        "arr1=[]\n",
        "arr2=[]\n",
        "while i<len(encodes):\n",
        " for items in encodes[i]:\n",
        "   match1=face_recognition.compare_faces(items,encodehello)\n",
        "   facedis=face_recognition.face_distance(items,encodehello)\n",
        "   arr1.append(match1[0])\n",
        "   arr2.append(facedis[0])\n",
        "   i=i+1\n",
        "print(arr1)\n",
        "print(arr2)\n",
        "index=np.argmin(arr2)\n",
        "ID=studentId[index]\n",
        "IDref=db.reference(f'students/{ID}')\n",
        "print(IDref.get())\n",
        "Downblob=bucket.get_blob(f'./{ID}.jpg')\n"
      ],
      "metadata": {
        "id": "s6oiuo6MDAKB",
        "outputId": "10129a4e-5eab-4a90-cd47-a7291ea52678",
        "colab": {
          "base_uri": "https://localhost:8080/"
        }
      },
      "execution_count": null,
      "outputs": [
        {
          "output_type": "stream",
          "name": "stdout",
          "text": [
            "File ./drive/MyDrive/students/0273.jpg uploaded to 0273.jpg.\n",
            "File ./drive/MyDrive/students/1316.jpg uploaded to 1316.jpg.\n",
            "['0273', '1316']\n",
            "encoding Started...\n",
            "encoding Complete...\n",
            "File Saved\n",
            "['0273', '1316']\n",
            "[True, False]\n",
            "[0.4679978449691711, 0.6433578062293922]\n",
            "{'Total_attendace': 8, 'Year': 4, 'last_attendance_time': '2024-12-12 00:00:00', 'major': 'Computer', 'name': 'Biniyam Gedefaw', 'starting_year': 2021}\n"
          ]
        }
      ]
    },
    {
      "cell_type": "code",
      "source": [
        "\n",
        "import firebase_admin\n",
        "from firebase_admin import credentials\n",
        "from firebase_admin import db\n",
        "\n",
        "\n",
        "\n",
        "cred = credentials.Certificate(\"/content/drive/MyDrive/serviceAccountKey.json\")\n",
        "firebase_admin.initialize_app(cred,{\n",
        "    \"databaseURL\":\"https://facerecondb-default-rtdb.firebaseio.com/\"\n",
        "})\n",
        "\n",
        "ref=db.reference('students')\n",
        "\n",
        "\n",
        "data= {\n",
        "\"1316\":{\n",
        "    \"name\":\"Yihun Melkam\",\n",
        "    \"major\":\"Computer\",\n",
        "    \"starting_year\":2021,\n",
        "    \"Total_attendace\":9,\n",
        "    \"Year\":4,\n",
        "    \"last_attendance_time\":\"2024-12-12 00:00:00\"\n",
        "},\n",
        "\"0273\":{\n",
        "    \"name\":\"Biniyam Gedefaw\",\n",
        "    \"major\":\"Computer\",\n",
        "    \"starting_year\":2021,\n",
        "    \"Total_attendace\":8,\n",
        "    \"Year\":4,\n",
        "    \"last_attendance_time\":\"2024-12-12 00:00:00\"\n",
        "}\n",
        "}\n",
        "\n",
        "\n",
        "for key,value in data.items():\n",
        "    ref.child(key).set(value)\n",
        "\n",
        "\n"
      ],
      "metadata": {
        "id": "cEv4ynv9DAk_"
      },
      "execution_count": null,
      "outputs": []
    },
    {
      "cell_type": "code",
      "source": [],
      "metadata": {
        "id": "mjv1Aehz4bXL"
      },
      "execution_count": null,
      "outputs": []
    }
  ]
}